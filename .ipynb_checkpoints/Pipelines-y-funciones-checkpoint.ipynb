{
 "cells": [
  {
   "cell_type": "markdown",
   "id": "9e2c3c05-b77e-433f-8353-b395b9a198f8",
   "metadata": {
    "jp-MarkdownHeadingCollapsed": true
   },
   "source": [
    "## 1.- Preprocesamiento"
   ]
  },
  {
   "cell_type": "markdown",
   "id": "9df515cf",
   "metadata": {
    "jp-MarkdownHeadingCollapsed": true
   },
   "source": [
    "#### Pipeline para imputar, normalizar y codificar"
   ]
  },
  {
   "cell_type": "code",
   "execution_count": 2,
   "id": "c11fb640",
   "metadata": {},
   "outputs": [],
   "source": [
    "import pandas as pd\n",
    "from sklearn.compose import ColumnTransformer\n",
    "from sklearn.impute import SimpleImputer\n",
    "from sklearn.preprocessing import StandardScaler, OneHotEncoder\n",
    "from sklearn.pipeline import Pipeline\n",
    "\n",
    "# Definimos las columnas numéricas y categóricas para cada\n",
    "numeric_features = x_train.select_dtypes(include=['float64', 'int64']).columns\n",
    "categorical_features = x_train.select_dtypes(include=['object']).columns\n",
    "\n",
    "# Creamos transformers para imputación y escala\n",
    "numeric_transformer = Pipeline(steps=[\n",
    "    ('imputer', SimpleImputer(strategy='mean')),\n",
    "    ('scaler', StandardScaler())\n",
    "])\n",
    "\n",
    "# Creamos transformer para codificación de variables categóricas\n",
    "categorical_transformer = Pipeline(steps=[\n",
    "    ('imputer', SimpleImputer(strategy='most_frequent')),\n",
    "    ('onehot', OneHotEncoder(handle_unknown='ignore'))\n",
    "])\n",
    "\n",
    "# Creamos un preprocesador que aplique los transformers apropiados a las columnas correctas\n",
    "preprocessor = ColumnTransformer(\n",
    "    transformers=[\n",
    "        ('num', numeric_transformer, numeric_features),\n",
    "        ('cat', categorical_transformer, categorical_features)\n",
    "    ])\n",
    "\n",
    "# Creamos el pipeline completo\n",
    "pipeline = Pipeline(steps=[('preprocessor', preprocessor)])"
   ]
  },
  {
   "cell_type": "markdown",
   "id": "e3db5354",
   "metadata": {},
   "source": [
    "En el caso de que no se quiera usar un tipo de preprocesamiento, solo hay que borrar la linea donde lo ponde en los transformadores"
   ]
  },
  {
   "cell_type": "code",
   "execution_count": 3,
   "id": "b81dd28b",
   "metadata": {},
   "outputs": [],
   "source": [
    "# asi se usa el pipeline \n",
    "x_train_prep = pipeline.fit_transform(x_train)\n",
    "x_test_prep = pipeline.transform(x_test)\n",
    "x_val_prep = pipeline.transform(x_val)"
   ]
  },
  {
   "cell_type": "markdown",
   "id": "289f0fc5",
   "metadata": {
    "jp-MarkdownHeadingCollapsed": true
   },
   "source": [
    "#### Para transformar a un df despues de aplicar el pipeline"
   ]
  },
  {
   "cell_type": "code",
   "execution_count": 4,
   "id": "34d94163",
   "metadata": {},
   "outputs": [],
   "source": [
    "# x_train_prep es la variable donde se guardo el df transformado al usar el pipeline \n",
    "\n",
    "x_train = pd.DataFrame(x_train_prep, columns=list(pd.get_dummies(x_train)), index=x_train.index)"
   ]
  },
  {
   "cell_type": "code",
   "execution_count": 6,
   "id": "92efee06",
   "metadata": {},
   "outputs": [
    {
     "data": {
      "text/html": [
       "<div>\n",
       "<style scoped>\n",
       "    .dataframe tbody tr th:only-of-type {\n",
       "        vertical-align: middle;\n",
       "    }\n",
       "\n",
       "    .dataframe tbody tr th {\n",
       "        vertical-align: top;\n",
       "    }\n",
       "\n",
       "    .dataframe thead th {\n",
       "        text-align: right;\n",
       "    }\n",
       "</style>\n",
       "<table border=\"1\" class=\"dataframe\">\n",
       "  <thead>\n",
       "    <tr style=\"text-align: right;\">\n",
       "      <th></th>\n",
       "      <th>Age</th>\n",
       "      <th>Income</th>\n",
       "      <th>Gender_Female</th>\n",
       "      <th>Gender_Male</th>\n",
       "    </tr>\n",
       "  </thead>\n",
       "  <tbody>\n",
       "    <tr>\n",
       "      <th>4</th>\n",
       "      <td>1.592850</td>\n",
       "      <td>1.153113</td>\n",
       "      <td>1.0</td>\n",
       "      <td>0.0</td>\n",
       "    </tr>\n",
       "    <tr>\n",
       "      <th>2</th>\n",
       "      <td>0.000000</td>\n",
       "      <td>-0.524142</td>\n",
       "      <td>0.0</td>\n",
       "      <td>1.0</td>\n",
       "    </tr>\n",
       "    <tr>\n",
       "      <th>0</th>\n",
       "      <td>-0.484780</td>\n",
       "      <td>-1.362770</td>\n",
       "      <td>0.0</td>\n",
       "      <td>1.0</td>\n",
       "    </tr>\n",
       "    <tr>\n",
       "      <th>3</th>\n",
       "      <td>-1.108069</td>\n",
       "      <td>0.733799</td>\n",
       "      <td>0.0</td>\n",
       "      <td>1.0</td>\n",
       "    </tr>\n",
       "  </tbody>\n",
       "</table>\n",
       "</div>"
      ],
      "text/plain": [
       "        Age    Income  Gender_Female  Gender_Male\n",
       "4  1.592850  1.153113            1.0          0.0\n",
       "2  0.000000 -0.524142            0.0          1.0\n",
       "0 -0.484780 -1.362770            0.0          1.0\n",
       "3 -1.108069  0.733799            0.0          1.0"
      ]
     },
     "execution_count": 6,
     "metadata": {},
     "output_type": "execute_result"
    }
   ],
   "source": [
    "x_train"
   ]
  },
  {
   "cell_type": "markdown",
   "id": "f0988bcf-aba3-4c66-a4fc-b218578487b0",
   "metadata": {
    "jp-MarkdownHeadingCollapsed": true
   },
   "source": [
    "## 2.- Visualizaciones"
   ]
  },
  {
   "cell_type": "markdown",
   "id": "0684e9b5",
   "metadata": {
    "jp-MarkdownHeadingCollapsed": true
   },
   "source": [
    "#### Para ver la importancia de cada caracteristica"
   ]
  },
  {
   "cell_type": "code",
   "execution_count": null,
   "id": "57d193bf",
   "metadata": {},
   "outputs": [],
   "source": [
    "feature_importances = tree_model.feature_importances_\n",
    "\n",
    "# Crea un DataFrame para visualizar las importancias junto con los nombres de las características\n",
    "feature_importance_df = pd.DataFrame({'Feature': x_train.columns, 'Importance': feature_importances})\n",
    "\n",
    "# Ordena el DataFrame por importancia en orden descendente\n",
    "feature_importance_df = feature_importance_df.sort_values(by='Importance', ascending=False)\n",
    "\n",
    "# Plotea las importancias de las características\n",
    "plt.figure(figsize=(10, 6))\n",
    "plt.bar(feature_importance_df['Feature'], feature_importance_df['Importance'])\n",
    "plt.xticks(rotation=90)\n",
    "plt.xlabel('Feature')\n",
    "plt.ylabel('Importance')\n",
    "plt.title('Feature Importances')\n",
    "plt.show()"
   ]
  },
  {
   "cell_type": "markdown",
   "id": "f1fd2a47-ed63-482e-b1f0-1557edafb839",
   "metadata": {
    "jp-MarkdownHeadingCollapsed": true
   },
   "source": [
    "#### hacer un tipo de visualizacion en cada columna"
   ]
  },
  {
   "cell_type": "code",
   "execution_count": null,
   "id": "75b6b394-af38-499f-91ba-97d375ff9cc2",
   "metadata": {},
   "outputs": [],
   "source": [
    "import seaborn as sns\n",
    "import matplotlib.pyplot as plt\n",
    "\n",
    "# Suponiendo que 'df' es tu DataFrame\n",
    "\n",
    "# Obtener el número de columnas en el DataFrame\n",
    "num_cols = len(df.columns)\n",
    "\n",
    "# Calcular el número de filas y columnas para el grid\n",
    "num_rows = (num_cols // 3) + (num_cols % 3 > 0)  # Asegura al menos una fila\n",
    "num_cols_grid = 3\n",
    "\n",
    "# Crear el grid de subgráficos\n",
    "fig, axes = plt.subplots(num_rows, num_cols_grid, figsize=(15, 5*num_rows))\n",
    "\n",
    "# Aplanar los ejes si solo hay una fila\n",
    "if num_rows == 1:\n",
    "    axes = [axes]\n",
    "\n",
    "# Iterar sobre cada columna y graficar\n",
    "for i, col in enumerate(df.columns):\n",
    "    ax = axes[i // num_cols_grid][i % num_cols_grid]\n",
    "    sns.histplot(df[col], ax=ax, kde=True)  # Puedes cambiar a sns.histplot() si necesitas más funcionalidades\n",
    "    ax.set_title(f'Histograma de {col}')\n",
    "\n",
    "# Eliminar los ejes vacíos\n",
    "for i in range(num_cols, num_rows * num_cols_grid):\n",
    "    fig.delaxes(axes[i // num_cols_grid][i % num_cols_grid])\n",
    "\n",
    "plt.tight_layout()\n",
    "plt.show()\n"
   ]
  },
  {
   "cell_type": "markdown",
   "id": "2558b4d5-1f7d-4116-a055-ce173c11250b",
   "metadata": {
    "jp-MarkdownHeadingCollapsed": true
   },
   "source": [
    "#### Para concatenar dos hist en uno"
   ]
  },
  {
   "cell_type": "code",
   "execution_count": null,
   "id": "a899dd20-9a91-4e44-b9b3-c93e56235efe",
   "metadata": {},
   "outputs": [],
   "source": [
    "import matplotlib.pyplot as plt\n",
    "import seaborn as sns\n",
    "\n",
    "features = df.drop(\"Class\", axis=1)\n",
    "\n",
    "plt.figure(figsize=(12, 32))\n",
    "\n",
    "# Usamos subplots para crear los ejes\n",
    "num_plots = len(features.columns)\n",
    "num_rows = (num_plots + 1) // 2  # Número de filas\n",
    "num_cols = 2  # Dos subgráficos por fila\n",
    "\n",
    "for i, f in enumerate(features.columns):\n",
    "    plt.subplot(num_rows, num_cols, i + 1)\n",
    "    # Usando histplot para los casos donde Class == 1\n",
    "    sns.histplot(data=df[df[\"Class\"] == 1], x=f, kde=True, color=\"red\", stat=\"density\", label=\"Fraud\", alpha=0.5)\n",
    "    # Usando histplot para los casos donde Class == 0\n",
    "    sns.histplot(data=df[df[\"Class\"] == 0], x=f, kde=True, color=\"blue\", stat=\"density\", label=\"Legit\", alpha=0.5)\n",
    "    plt.xlabel('')\n",
    "    plt.title(f\"Feature: {f}\")\n",
    "    plt.legend()\n",
    "\n",
    "plt.tight_layout()\n",
    "plt.show()"
   ]
  }
 ],
 "metadata": {
  "kernelspec": {
   "display_name": "Python 3 (ipykernel)",
   "language": "python",
   "name": "python3"
  },
  "language_info": {
   "codemirror_mode": {
    "name": "ipython",
    "version": 3
   },
   "file_extension": ".py",
   "mimetype": "text/x-python",
   "name": "python",
   "nbconvert_exporter": "python",
   "pygments_lexer": "ipython3",
   "version": "3.11.8"
  }
 },
 "nbformat": 4,
 "nbformat_minor": 5
}
