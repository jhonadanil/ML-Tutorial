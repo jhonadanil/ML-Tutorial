{
 "cells": [
  {
   "cell_type": "code",
   "execution_count": null,
   "id": "33405ada-9782-4f9c-bf47-1ab5671982d0",
   "metadata": {
    "canvas": {
     "comments": [],
     "componentType": "CodeCell",
     "copiedOriginId": null,
     "diskcache": false,
     "headerColor": "transparent",
     "id": "bd357034-0724-4ff6-baf5-6436f49e189b",
     "isComponent": false,
     "name": null,
     "parents": []
    },
    "editable": true,
    "slideshow": {
     "slide_type": ""
    },
    "tags": []
   },
   "outputs": [],
   "source": [
    "import pandas as pd\n",
    "import numpy as np\n",
    "import matplotlib.pyplot as plt\n",
    "import seaborn as sns\n",
    "from sklearn.ensemble import RandomForestClassifier\n",
    "from sklearn.cluster import KMeans\n",
    "from collections import Counter\n",
    "from sklearn import metrics"
   ]
  },
  {
   "cell_type": "markdown",
   "id": "b0817b32-63a7-4419-a207-2aabf06b0e83",
   "metadata": {
    "canvas": {
     "comments": [],
     "componentType": "CodeCell",
     "copiedOriginId": null,
     "diskcache": false,
     "headerColor": "transparent",
     "id": "7fca5e1a-3515-4c34-ae09-6d19aff0355c",
     "isComponent": false,
     "name": "",
     "parents": []
    },
    "tags": []
   },
   "source": [
    "## 1.- Análisis de datos"
   ]
  },
  {
   "cell_type": "markdown",
   "id": "6de5637a-e3fd-4f04-8b36-25846d37eac2",
   "metadata": {
    "canvas": {
     "comments": [],
     "componentType": "CodeCell",
     "copiedOriginId": null,
     "diskcache": false,
     "headerColor": "transparent",
     "id": "b849554e-86eb-482d-b499-a5cd18c5ed7f",
     "isComponent": false,
     "name": "",
     "parents": []
    },
    "tags": []
   },
   "source": [
    "#### Exploración"
   ]
  },
  {
   "cell_type": "markdown",
   "id": "703f2b46-1eff-4700-b2eb-579a7ac063bd",
   "metadata": {
    "canvas": {
     "comments": [],
     "componentType": "CodeCell",
     "copiedOriginId": null,
     "diskcache": false,
     "headerColor": "transparent",
     "id": "e30e440c-8def-4e49-831d-0527cfa81576",
     "isComponent": false,
     "name": "",
     "parents": []
    }
   },
   "source": [
    "Dataset sacado de: https://www.kaggle.com/datasets/mlg-ulb/creditcardfraud#creditcard.csv"
   ]
  },
  {
   "cell_type": "code",
   "execution_count": null,
   "id": "d393cf00-66a9-49c4-8ad4-fb3418282de0",
   "metadata": {
    "canvas": {
     "comments": [],
     "componentType": "CodeCell",
     "copiedOriginId": null,
     "diskcache": false,
     "headerColor": "transparent",
     "id": "65fe9930-cc22-45bb-a1a0-2633654aa87e",
     "isComponent": false,
     "name": null,
     "parents": []
    },
    "tags": []
   },
   "outputs": [],
   "source": [
    "df = pd.read_csv('../Datasets/creditcard.csv')"
   ]
  },
  {
   "cell_type": "code",
   "execution_count": null,
   "id": "d86c577c-4d67-4dd1-8069-eaf8b2f63055",
   "metadata": {
    "canvas": {
     "comments": [],
     "componentType": "CodeCell",
     "copiedOriginId": null,
     "diskcache": false,
     "headerColor": "transparent",
     "id": "e8ff9b0e-4927-4fe4-af8c-f9f7d15fe924",
     "isComponent": false,
     "name": "",
     "parents": []
    }
   },
   "outputs": [],
   "source": [
    "df.head()"
   ]
  },
  {
   "cell_type": "code",
   "execution_count": null,
   "id": "a740bf96-e683-4c1e-9b43-7ac46677f98f",
   "metadata": {
    "canvas": {
     "comments": [],
     "componentType": "CodeCell",
     "copiedOriginId": null,
     "diskcache": false,
     "headerColor": "transparent",
     "id": "17217b75-7c9d-4c64-b798-fd1eae317b07",
     "isComponent": false,
     "name": "",
     "parents": []
    }
   },
   "outputs": [],
   "source": [
    "df.shape"
   ]
  },
  {
   "cell_type": "code",
   "execution_count": null,
   "id": "36172a81-4a4b-4ad5-8ee6-fc8b4a5dd235",
   "metadata": {
    "canvas": {
     "comments": [],
     "componentType": "CodeCell",
     "copiedOriginId": null,
     "diskcache": false,
     "headerColor": "transparent",
     "id": "833be661-c457-4066-b1c8-ffe925ae0e18",
     "isComponent": false,
     "name": "",
     "parents": []
    }
   },
   "outputs": [],
   "source": [
    "df.info()"
   ]
  },
  {
   "cell_type": "code",
   "execution_count": null,
   "id": "01ac9619-a74c-4221-afd9-f59926003097",
   "metadata": {
    "canvas": {
     "comments": [],
     "componentType": "CodeCell",
     "copiedOriginId": null,
     "diskcache": false,
     "headerColor": "transparent",
     "id": "b9497679-3f2c-4353-b0fd-fb7b2f24712c",
     "isComponent": false,
     "name": "",
     "parents": []
    }
   },
   "outputs": [],
   "source": [
    "df.describe()"
   ]
  },
  {
   "cell_type": "code",
   "execution_count": null,
   "id": "f6705832-036f-4deb-87f0-90896f3d350c",
   "metadata": {
    "canvas": {
     "comments": [],
     "componentType": "CodeCell",
     "copiedOriginId": null,
     "diskcache": false,
     "headerColor": "transparent",
     "id": "8a62cd7e-dd75-4ba8-a6d2-a1e0d8727475",
     "isComponent": false,
     "name": "",
     "parents": []
    }
   },
   "outputs": [],
   "source": [
    "df.isna().sum()"
   ]
  },
  {
   "cell_type": "markdown",
   "id": "97647240-3cab-44ee-950f-95dba9aaa776",
   "metadata": {
    "canvas": {
     "comments": [],
     "componentType": "CodeCell",
     "copiedOriginId": null,
     "diskcache": false,
     "headerColor": "transparent",
     "id": "d860661d-6be7-4a60-b21f-f959affefd39",
     "isComponent": false,
     "name": "",
     "parents": []
    },
    "tags": []
   },
   "source": [
    "#### Visualizaciones"
   ]
  },
  {
   "cell_type": "code",
   "execution_count": null,
   "id": "0eed80eb-ac39-4037-a028-045c72c53621",
   "metadata": {
    "canvas": {
     "comments": [],
     "componentType": "CodeCell",
     "copiedOriginId": null,
     "diskcache": false,
     "headerColor": "transparent",
     "id": "05bef69b-5a8f-4f80-854e-6ce058fee34a",
     "isComponent": false,
     "name": "",
     "parents": []
    },
    "tags": []
   },
   "outputs": [],
   "source": [
    "# para visualizarlo\n",
    "df_sample = df.sample(frac=0.2, random_state=42)\n",
    "sns.set_palette(\"dark\")"
   ]
  },
  {
   "cell_type": "code",
   "execution_count": null,
   "id": "96a9288f-0916-432e-8185-3e020d5890a0",
   "metadata": {
    "canvas": {
     "comments": [],
     "componentType": "CodeCell",
     "copiedOriginId": null,
     "diskcache": false,
     "headerColor": "transparent",
     "id": "60cd3a1e-99ed-447b-8584-4fa54913b433",
     "isComponent": false,
     "name": "",
     "parents": []
    },
    "tags": []
   },
   "outputs": [],
   "source": [
    "features = df_sample.drop(\"Class\", axis=1)\n",
    "\n",
    "plt.figure(figsize=(12, 32))\n",
    "\n",
    "# Usamos subplots para crear los ejes\n",
    "num_plots = len(features.columns)\n",
    "num_rows = (num_plots + 1) // 2  # Número de filas\n",
    "num_cols = 2  # Dos subgráficos por fila\n",
    "\n",
    "for i, f in enumerate(features.columns):\n",
    "    plt.subplot(num_rows, num_cols, i + 1)\n",
    "    # Usando histplot para los casos donde Class == 1\n",
    "    sns.histplot(data=df_sample[df_sample[\"Class\"] == 1], x=f, kde=True, color=\"red\", stat=\"density\", label=\"Fraud\", alpha=0.5)\n",
    "    # Usando histplot para los casos donde Class == 0\n",
    "    sns.histplot(data=df_sample[df_sample[\"Class\"] == 0], x=f, kde=True, color=\"blue\", stat=\"density\", label=\"Legit\", alpha=0.5)\n",
    "    plt.xlabel('')\n",
    "    plt.title(f\"Feature: {f}\")\n",
    "    plt.legend()\n",
    "\n",
    "plt.tight_layout()\n",
    "plt.show()"
   ]
  },
  {
   "cell_type": "code",
   "execution_count": null,
   "id": "71a01e2c-b6a6-4adc-961b-25c45c69c994",
   "metadata": {
    "canvas": {
     "comments": [],
     "componentType": "CodeCell",
     "copiedOriginId": null,
     "diskcache": false,
     "headerColor": "transparent",
     "id": "22d3fcb6-6c3f-4086-9fa6-4a9eaf69b192",
     "isComponent": false,
     "name": "",
     "parents": []
    },
    "tags": []
   },
   "outputs": [],
   "source": [
    "# Definir el tamaño de la figura\n",
    "plt.figure(figsize=(6, 4))\n",
    "\n",
    "# Utilizar seaborn para graficar el scatter plot\n",
    "sns.scatterplot(x=\"V10\", y=\"V14\", hue=\"Class\", data=df_sample, marker=\".\")\n",
    "\n",
    "# Establecer etiquetas de los ejes\n",
    "plt.xlabel(\"V10\", fontsize=14)\n",
    "plt.ylabel(\"V14\", fontsize=14)\n",
    "\n",
    "# Mostrar el gráfico\n",
    "plt.show()"
   ]
  },
  {
   "cell_type": "markdown",
   "id": "d7604618-c158-48db-aab2-8c4d5dcd9949",
   "metadata": {
    "canvas": {
     "comments": [],
     "componentType": "CodeCell",
     "copiedOriginId": null,
     "diskcache": false,
     "headerColor": "transparent",
     "id": "3466df12-f2a1-46a8-be1c-5903755dac1d",
     "isComponent": false,
     "name": "",
     "parents": []
    },
    "tags": []
   },
   "source": [
    "## 2.- Preprocesamiento de datos"
   ]
  },
  {
   "cell_type": "code",
   "execution_count": null,
   "id": "996df081-0601-4402-ab52-49790bbafa40",
   "metadata": {
    "canvas": {
     "comments": [],
     "componentType": "CodeCell",
     "copiedOriginId": null,
     "diskcache": false,
     "headerColor": "transparent",
     "id": "79067042-7bf9-43b8-a77c-62b84b361d70",
     "isComponent": false,
     "name": "",
     "parents": []
    },
    "scrolled": true
   },
   "outputs": [],
   "source": [
    "df.head()"
   ]
  },
  {
   "cell_type": "markdown",
   "id": "a12af566-3bd0-4433-b371-44a6a3b5e71f",
   "metadata": {
    "canvas": {
     "comments": [],
     "componentType": "CodeCell",
     "copiedOriginId": null,
     "diskcache": false,
     "headerColor": "transparent",
     "id": "d15b3eb8-180d-4d2c-8c2d-8600da542067",
     "isComponent": false,
     "name": "",
     "parents": []
    },
    "tags": []
   },
   "source": [
    "Eliminamos las columnas amount y time por que no son muy importantes y no estan escaladas"
   ]
  },
  {
   "cell_type": "code",
   "execution_count": null,
   "id": "473427c0-74a0-48fb-811e-ebaa61d11543",
   "metadata": {
    "canvas": {
     "comments": [],
     "componentType": "CodeCell",
     "copiedOriginId": null,
     "diskcache": false,
     "headerColor": "transparent",
     "id": "75c76bad-a8bc-4db8-9d4b-97cfeba94919",
     "isComponent": false,
     "name": null,
     "parents": []
    },
    "tags": []
   },
   "outputs": [],
   "source": [
    "x = df.drop(['Class'], axis=1)\n",
    "\n",
    "y = df['Class']"
   ]
  },
  {
   "cell_type": "code",
   "execution_count": null,
   "id": "514051ff-fbc8-4342-af3d-b39904f4edf7",
   "metadata": {
    "canvas": {
     "comments": [],
     "componentType": "CodeCell",
     "copiedOriginId": null,
     "diskcache": false,
     "headerColor": "transparent",
     "id": "aa9e8420-7026-4574-ab6e-08aa954bf0e6",
     "isComponent": false,
     "name": null,
     "parents": []
    },
    "tags": []
   },
   "outputs": [],
   "source": [
    "rf_model = RandomForestClassifier(n_estimators= 50, random_state= 42, n_jobs= -1)\n",
    "\n",
    "rf_model.fit(x, y)\n",
    "\n",
    "rf_model.feature_importances_"
   ]
  },
  {
   "cell_type": "code",
   "execution_count": null,
   "id": "8160a80f-abac-4514-9831-41fefbf9877e",
   "metadata": {
    "canvas": {
     "comments": [],
     "componentType": "CodeCell",
     "copiedOriginId": null,
     "diskcache": false,
     "headerColor": "transparent",
     "id": "0a0bdfd0-5ccf-49ff-8d8a-5b5fcde9b1ed",
     "isComponent": false,
     "name": null,
     "parents": []
    },
    "tags": []
   },
   "outputs": [],
   "source": [
    "# Obtener las importancias de las características\n",
    "feature_importances = {name: score for name, score in zip(list(x), rf_model.feature_importances_)}\n",
    "\n",
    "# Crear un DataFrame a partir del diccionario de importancias\n",
    "feature_importances_df = pd.DataFrame(list(feature_importances.items()), columns=['Feature', 'Importance'])\n",
    "\n",
    "# Ordenar el DataFrame por importancia en orden descendente\n",
    "feature_importances_df = feature_importances_df.sort_values(by='Importance', ascending=False)"
   ]
  },
  {
   "cell_type": "code",
   "execution_count": null,
   "id": "1ff67dba-2c30-4fc4-97b4-4ff27a7ae174",
   "metadata": {
    "canvas": {
     "comments": [],
     "componentType": "CodeCell",
     "copiedOriginId": null,
     "diskcache": false,
     "headerColor": "transparent",
     "id": "84ddcae0-13f2-4557-b044-83932a469dd5",
     "isComponent": false,
     "name": "",
     "parents": []
    }
   },
   "outputs": [],
   "source": [
    "# Visualización de importancias\n",
    "sns.barplot(x='Importance', y='Feature', data=feature_importances_df, )\n",
    "plt.title('Feature Importance')\n",
    "plt.show()"
   ]
  },
  {
   "cell_type": "code",
   "execution_count": null,
   "id": "f3451021-bae8-4424-a0ff-738f0ea5722b",
   "metadata": {
    "canvas": {
     "comments": [],
     "componentType": "CodeCell",
     "copiedOriginId": null,
     "diskcache": false,
     "headerColor": "transparent",
     "id": "9f5a9399-68b9-4df6-8112-183e039def5f",
     "isComponent": false,
     "name": null,
     "parents": []
    },
    "tags": []
   },
   "outputs": [],
   "source": [
    "selected_columns = feature_importances_df.head(7)['Feature'].tolist()\n",
    "x = x[selected_columns].copy()"
   ]
  },
  {
   "cell_type": "code",
   "execution_count": null,
   "id": "5fdca531-3e31-4046-84ea-3fa7ba4b38ef",
   "metadata": {
    "canvas": {
     "comments": [],
     "componentType": "CodeCell",
     "copiedOriginId": null,
     "diskcache": false,
     "headerColor": "transparent",
     "id": "9e12373b-9e3f-407e-988b-195a06493d6b",
     "isComponent": false,
     "name": "",
     "parents": []
    }
   },
   "outputs": [],
   "source": [
    "x.head()"
   ]
  },
  {
   "cell_type": "markdown",
   "id": "71b22d16-7599-4bfe-905e-ad2d2368b7a0",
   "metadata": {
    "canvas": {
     "comments": [],
     "componentType": "CodeCell",
     "copiedOriginId": null,
     "diskcache": false,
     "headerColor": "transparent",
     "id": "98959372-2cd4-40f0-a70d-1f132404cb15",
     "isComponent": false,
     "name": "",
     "parents": []
    },
    "tags": []
   },
   "source": [
    "## 3.- Entrenamiento"
   ]
  },
  {
   "cell_type": "code",
   "execution_count": null,
   "id": "bb56726a-cd25-4972-a91c-7bcc9f6f324d",
   "metadata": {
    "canvas": {
     "comments": [],
     "componentType": "CodeCell",
     "copiedOriginId": null,
     "diskcache": false,
     "headerColor": "transparent",
     "id": "8cafdfb5-0d99-4674-836f-9023111d30a1",
     "isComponent": false,
     "name": null,
     "parents": []
    },
    "tags": []
   },
   "outputs": [],
   "source": [
    "kmeans = KMeans(n_clusters=5, random_state=42)\n",
    "\n",
    "clusters = kmeans.fit_predict(x)"
   ]
  },
  {
   "cell_type": "code",
   "execution_count": null,
   "id": "ff19590a-9146-4c50-9a05-f47b0c72323e",
   "metadata": {
    "canvas": {
     "comments": [],
     "componentType": "CodeCell",
     "copiedOriginId": null,
     "diskcache": false,
     "headerColor": "transparent",
     "id": "b80fb39d-e69c-4a58-b4da-c9f785216188",
     "isComponent": false,
     "name": "",
     "parents": []
    }
   },
   "outputs": [],
   "source": [
    "counter = Counter(clusters.tolist())\n",
    "\n",
    "bad_counter = Counter(clusters[df['Class'] == 1].tolist())\n",
    "\n",
    "for key in sorted(counter.keys()):\n",
    "    print(\"cluster {0}, {1} ejemplos - {2} malicioso\".format(\n",
    "        key, counter[key], bad_counter[key]))"
   ]
  },
  {
   "cell_type": "code",
   "execution_count": null,
   "id": "3de46d37-330f-4dc5-b0d8-5807bfb239b3",
   "metadata": {
    "canvas": {
     "comments": [],
     "componentType": "CodeCell",
     "copiedOriginId": null,
     "diskcache": false,
     "headerColor": "transparent",
     "id": "1e487ac8-3ffd-4512-b9f8-c1f4f645d660",
     "isComponent": false,
     "name": "",
     "parents": []
    }
   },
   "outputs": [],
   "source": [
    "df['Class'].value_counts()"
   ]
  },
  {
   "cell_type": "code",
   "execution_count": null,
   "id": "a870bf27-9cd5-4879-81a8-20aa1546565e",
   "metadata": {
    "canvas": {
     "comments": [],
     "componentType": "CodeCell",
     "copiedOriginId": null,
     "diskcache": false,
     "headerColor": "transparent",
     "id": "7e4fca65-f8eb-4ebc-b9f8-877ea631adc4",
     "isComponent": false,
     "name": "",
     "parents": []
    }
   },
   "outputs": [],
   "source": [
    "def purity_score(y, y_predict):\n",
    "    # compute contingency matrix (also called confusion matrix)\n",
    "    contingency_matrix = metrics.cluster.contingency_matrix(y, y_predict)\n",
    "    # return purity\n",
    "    return np.sum(np.amax(contingency_matrix, axis=0)) / np.sum(contingency_matrix)"
   ]
  },
  {
   "cell_type": "code",
   "execution_count": null,
   "id": "a2372ff9-d7f1-4527-957c-58891be92404",
   "metadata": {
    "canvas": {
     "comments": [],
     "componentType": "CodeCell",
     "copiedOriginId": null,
     "diskcache": false,
     "headerColor": "transparent",
     "id": "b6ecde10-e630-4f6a-98a8-a5e9ed49bb06",
     "isComponent": false,
     "name": "",
     "parents": []
    }
   },
   "outputs": [],
   "source": [
    " purity_score(y, clusters)"
   ]
  },
  {
   "cell_type": "code",
   "execution_count": null,
   "id": "1491f8d3-2e99-4309-ba30-c1943f5e8fa6",
   "metadata": {
    "canvas": {
     "comments": [],
     "componentType": "CodeCell",
     "copiedOriginId": null,
     "diskcache": false,
     "headerColor": "transparent",
     "id": "ce211639-c220-4e31-b3bc-4b58a99c95c2",
     "isComponent": false,
     "name": "",
     "parents": []
    }
   },
   "outputs": [],
   "source": [
    "metrics.silhouette_score(x, clusters, sample_size=10000)"
   ]
  },
  {
   "cell_type": "code",
   "execution_count": null,
   "id": "1d73406e-0482-486a-b202-322330641f48",
   "metadata": {
    "canvas": {
     "comments": [],
     "componentType": "CodeCell",
     "copiedOriginId": null,
     "diskcache": false,
     "headerColor": "transparent",
     "id": "32c91953-30fb-45ed-8204-ba1df377f0be",
     "isComponent": false,
     "name": "",
     "parents": []
    }
   },
   "outputs": [],
   "source": [
    "metrics.calinski_harabasz_score(x, clusters)"
   ]
  }
 ],
 "metadata": {
  "canvas": {
   "colorPalette": [
    "inherit",
    "inherit",
    "inherit",
    "inherit",
    "inherit",
    "inherit",
    "inherit",
    "inherit",
    "inherit",
    "inherit"
   ],
   "parameters": [],
   "version": "1.0"
  },
  "kernelspec": {
   "display_name": "Python 3 (ipykernel)",
   "language": "python",
   "name": "python3"
  },
  "language_info": {
   "codemirror_mode": {
    "name": "ipython",
    "version": 3
   },
   "file_extension": ".py",
   "mimetype": "text/x-python",
   "name": "python",
   "nbconvert_exporter": "python",
   "pygments_lexer": "ipython3",
   "version": "3.11.8"
  },
  "widgets": {
   "application/vnd.jupyter.widget-state+json": {
    "state": {},
    "version_major": 2,
    "version_minor": 0
   }
  }
 },
 "nbformat": 4,
 "nbformat_minor": 5
}
